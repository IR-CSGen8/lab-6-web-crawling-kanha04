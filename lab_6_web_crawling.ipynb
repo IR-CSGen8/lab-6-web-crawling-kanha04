{
 "cells": [
  {
   "cell_type": "code",
   "execution_count": 1,
   "id": "d05f4286",
   "metadata": {},
   "outputs": [
    {
     "name": "stdout",
     "output_type": "stream",
     "text": [
      "Defaulting to user installation because normal site-packages is not writeable\n",
      "Requirement already satisfied: holoviews in c:\\users\\kanha\\appdata\\roaming\\python\\python311\\site-packages (1.18.0)\n",
      "Requirement already satisfied: param<3.0,>=1.12.0 in c:\\users\\kanha\\appdata\\roaming\\python\\python311\\site-packages (from holoviews) (2.0.0)\n",
      "Requirement already satisfied: numpy>=1.0 in c:\\users\\kanha\\appdata\\roaming\\python\\python311\\site-packages (from holoviews) (1.25.2)\n",
      "Requirement already satisfied: pyviz-comms>=0.7.4 in c:\\users\\kanha\\appdata\\roaming\\python\\python311\\site-packages (from holoviews) (3.0.0)\n",
      "Requirement already satisfied: panel>=1.0 in c:\\users\\kanha\\appdata\\roaming\\python\\python311\\site-packages (from holoviews) (1.3.0)\n",
      "Requirement already satisfied: colorcet in c:\\users\\kanha\\appdata\\roaming\\python\\python311\\site-packages (from holoviews) (3.0.1)\n",
      "Requirement already satisfied: packaging in c:\\users\\kanha\\appdata\\roaming\\python\\python311\\site-packages (from holoviews) (23.1)\n",
      "Requirement already satisfied: pandas>=0.20.0 in c:\\users\\kanha\\appdata\\roaming\\python\\python311\\site-packages (from holoviews) (2.0.3)\n",
      "Requirement already satisfied: python-dateutil>=2.8.2 in c:\\users\\kanha\\appdata\\roaming\\python\\python311\\site-packages (from pandas>=0.20.0->holoviews) (2.8.2)\n",
      "Requirement already satisfied: pytz>=2020.1 in c:\\users\\kanha\\appdata\\roaming\\python\\python311\\site-packages (from pandas>=0.20.0->holoviews) (2023.3)\n",
      "Requirement already satisfied: tzdata>=2022.1 in c:\\users\\kanha\\appdata\\roaming\\python\\python311\\site-packages (from pandas>=0.20.0->holoviews) (2023.3)\n",
      "Requirement already satisfied: bokeh<3.4.0,>=3.2.0 in c:\\users\\kanha\\appdata\\roaming\\python\\python311\\site-packages (from panel>=1.0->holoviews) (3.3.0)\n",
      "Requirement already satisfied: xyzservices>=2021.09.1 in c:\\users\\kanha\\appdata\\roaming\\python\\python311\\site-packages (from panel>=1.0->holoviews) (2023.10.0)\n",
      "Requirement already satisfied: markdown in c:\\users\\kanha\\appdata\\roaming\\python\\python311\\site-packages (from panel>=1.0->holoviews) (3.5)\n",
      "Requirement already satisfied: markdown-it-py in c:\\users\\kanha\\appdata\\roaming\\python\\python311\\site-packages (from panel>=1.0->holoviews) (3.0.0)\n",
      "Requirement already satisfied: linkify-it-py in c:\\users\\kanha\\appdata\\roaming\\python\\python311\\site-packages (from panel>=1.0->holoviews) (2.0.2)\n",
      "Requirement already satisfied: mdit-py-plugins in c:\\users\\kanha\\appdata\\roaming\\python\\python311\\site-packages (from panel>=1.0->holoviews) (0.4.0)\n",
      "Requirement already satisfied: requests in c:\\users\\kanha\\appdata\\roaming\\python\\python311\\site-packages (from panel>=1.0->holoviews) (2.31.0)\n",
      "Requirement already satisfied: tqdm>=4.48.0 in c:\\users\\kanha\\appdata\\roaming\\python\\python311\\site-packages (from panel>=1.0->holoviews) (4.66.1)\n",
      "Requirement already satisfied: bleach in c:\\users\\kanha\\appdata\\roaming\\python\\python311\\site-packages (from panel>=1.0->holoviews) (6.0.0)\n",
      "Requirement already satisfied: typing-extensions in c:\\users\\kanha\\appdata\\roaming\\python\\python311\\site-packages (from panel>=1.0->holoviews) (4.8.0)\n",
      "Requirement already satisfied: pyct>=0.4.4 in c:\\users\\kanha\\appdata\\roaming\\python\\python311\\site-packages (from colorcet->holoviews) (0.5.0)\n",
      "Requirement already satisfied: Jinja2>=2.9 in c:\\users\\kanha\\appdata\\roaming\\python\\python311\\site-packages (from bokeh<3.4.0,>=3.2.0->panel>=1.0->holoviews) (3.1.2)\n",
      "Requirement already satisfied: contourpy>=1 in c:\\users\\kanha\\appdata\\roaming\\python\\python311\\site-packages (from bokeh<3.4.0,>=3.2.0->panel>=1.0->holoviews) (1.1.0)\n",
      "Requirement already satisfied: pillow>=7.1.0 in c:\\users\\kanha\\appdata\\roaming\\python\\python311\\site-packages (from bokeh<3.4.0,>=3.2.0->panel>=1.0->holoviews) (10.0.0)\n",
      "Requirement already satisfied: PyYAML>=3.10 in c:\\users\\kanha\\appdata\\roaming\\python\\python311\\site-packages (from bokeh<3.4.0,>=3.2.0->panel>=1.0->holoviews) (6.0.1)\n",
      "Requirement already satisfied: tornado>=5.1 in c:\\users\\kanha\\appdata\\roaming\\python\\python311\\site-packages (from bokeh<3.4.0,>=3.2.0->panel>=1.0->holoviews) (6.3.2)\n",
      "Requirement already satisfied: six>=1.5 in c:\\users\\kanha\\appdata\\roaming\\python\\python311\\site-packages (from python-dateutil>=2.8.2->pandas>=0.20.0->holoviews) (1.16.0)\n",
      "Requirement already satisfied: colorama in c:\\users\\kanha\\appdata\\roaming\\python\\python311\\site-packages (from tqdm>=4.48.0->panel>=1.0->holoviews) (0.4.6)\n",
      "Requirement already satisfied: webencodings in c:\\users\\kanha\\appdata\\roaming\\python\\python311\\site-packages (from bleach->panel>=1.0->holoviews) (0.5.1)\n",
      "Requirement already satisfied: uc-micro-py in c:\\users\\kanha\\appdata\\roaming\\python\\python311\\site-packages (from linkify-it-py->panel>=1.0->holoviews) (1.0.2)\n",
      "Requirement already satisfied: mdurl~=0.1 in c:\\users\\kanha\\appdata\\roaming\\python\\python311\\site-packages (from markdown-it-py->panel>=1.0->holoviews) (0.1.2)\n",
      "Requirement already satisfied: charset-normalizer<4,>=2 in c:\\users\\kanha\\appdata\\roaming\\python\\python311\\site-packages (from requests->panel>=1.0->holoviews) (3.2.0)\n",
      "Requirement already satisfied: idna<4,>=2.5 in c:\\users\\kanha\\appdata\\roaming\\python\\python311\\site-packages (from requests->panel>=1.0->holoviews) (3.4)\n",
      "Requirement already satisfied: urllib3<3,>=1.21.1 in c:\\users\\kanha\\appdata\\roaming\\python\\python311\\site-packages (from requests->panel>=1.0->holoviews) (2.0.4)\n",
      "Requirement already satisfied: certifi>=2017.4.17 in c:\\users\\kanha\\appdata\\roaming\\python\\python311\\site-packages (from requests->panel>=1.0->holoviews) (2023.7.22)\n",
      "Requirement already satisfied: MarkupSafe>=2.0 in c:\\users\\kanha\\appdata\\roaming\\python\\python311\\site-packages (from Jinja2>=2.9->bokeh<3.4.0,>=3.2.0->panel>=1.0->holoviews) (2.1.3)\n"
     ]
    }
   ],
   "source": [
    "!pip install holoviews"
   ]
  },
  {
   "cell_type": "code",
   "execution_count": 2,
   "id": "1185aef4",
   "metadata": {},
   "outputs": [
    {
     "name": "stdout",
     "output_type": "stream",
     "text": [
      "Defaulting to user installation because normal site-packages is not writeable\n",
      "Requirement already satisfied: networkx in c:\\users\\kanha\\appdata\\roaming\\python\\python311\\site-packages (3.2)\n",
      "Note: you may need to restart the kernel to use updated packages.\n"
     ]
    }
   ],
   "source": [
    "pip install networkx"
   ]
  },
  {
   "cell_type": "code",
   "execution_count": 3,
   "id": "adcd55ac",
   "metadata": {},
   "outputs": [],
   "source": [
    "import re\n",
    "import requests\n",
    "import pandas as pd\n",
    "import holoviews as hv\n",
    "import networkx as nx\n",
    "from holoviews import opts\n",
    "from bs4 import BeautifulSoup\n",
    "from urllib.request import urljoin\n"
   ]
  },
  {
   "cell_type": "code",
   "execution_count": 9,
   "id": "40bc10bd",
   "metadata": {},
   "outputs": [],
   "source": [
    "sites = \"https://www.google.com/\" #@param {type:\"string\"}\n",
    "depth = 3 #@param {type:\"slider\", min:1, max:10, step:1}\n",
    "max_child = 10 #@param {type:\"slider\", min:1, max:100, step:1}\n",
    "\n",
    "def crawl(sites, depth=1, current_depth=0, max_child=10):\n",
    "    get_links = lambda site: pd.Series(urljoin(site, tag.get('href')) for tag in BeautifulSoup(requests.get(site).text).find_all('a')).drop_duplicates().head(max_child)\n",
    "    \n",
    "    sites = pd.concat([sites, pd.DataFrame([{'link': link, 'parent': site, 'depth': current_depth + 1}\n",
    "                                       for site in sites[sites.depth == current_depth].link\n",
    "                                       for link in get_links(site)])], \n",
    "                         ignore_index=True).drop_duplicates('link')\n",
    "    \n",
    "    if depth > current_depth + 1:\n",
    "        return crawl(sites, depth=depth, current_depth=current_depth+1, max_child=max_child)\n",
    "    else:\n",
    "        return sites\n",
    "\n",
    "\n",
    "result = crawl(sites=pd.DataFrame([{'link': site, 'depth': 0, 'parent': site} for site in sites.split()]), \n",
    "               max_child=max_child,\n",
    "               depth=depth)"
   ]
  },
  {
   "cell_type": "code",
   "execution_count": 10,
   "id": "6c7ceb7a",
   "metadata": {},
   "outputs": [
    {
     "data": {
      "text/html": [
       "<div>\n",
       "<style scoped>\n",
       "    .dataframe tbody tr th:only-of-type {\n",
       "        vertical-align: middle;\n",
       "    }\n",
       "\n",
       "    .dataframe tbody tr th {\n",
       "        vertical-align: top;\n",
       "    }\n",
       "\n",
       "    .dataframe thead th {\n",
       "        text-align: right;\n",
       "    }\n",
       "</style>\n",
       "<table border=\"1\" class=\"dataframe\">\n",
       "  <thead>\n",
       "    <tr style=\"text-align: right;\">\n",
       "      <th></th>\n",
       "      <th>link</th>\n",
       "      <th>depth</th>\n",
       "      <th>parent</th>\n",
       "    </tr>\n",
       "  </thead>\n",
       "  <tbody>\n",
       "    <tr>\n",
       "      <th>0</th>\n",
       "      <td>https://www.google.com/</td>\n",
       "      <td>0</td>\n",
       "      <td>https://www.google.com/</td>\n",
       "    </tr>\n",
       "    <tr>\n",
       "      <th>1</th>\n",
       "      <td>https://www.google.com/imghp?hl=km&amp;tab=wi</td>\n",
       "      <td>1</td>\n",
       "      <td>https://www.google.com/</td>\n",
       "    </tr>\n",
       "    <tr>\n",
       "      <th>2</th>\n",
       "      <td>https://maps.google.com.kh/maps?hl=km&amp;tab=wl</td>\n",
       "      <td>1</td>\n",
       "      <td>https://www.google.com/</td>\n",
       "    </tr>\n",
       "    <tr>\n",
       "      <th>3</th>\n",
       "      <td>https://play.google.com/?hl=km&amp;tab=w8</td>\n",
       "      <td>1</td>\n",
       "      <td>https://www.google.com/</td>\n",
       "    </tr>\n",
       "    <tr>\n",
       "      <th>4</th>\n",
       "      <td>https://news.google.com/?tab=wn</td>\n",
       "      <td>1</td>\n",
       "      <td>https://www.google.com/</td>\n",
       "    </tr>\n",
       "    <tr>\n",
       "      <th>...</th>\n",
       "      <td>...</td>\n",
       "      <td>...</td>\n",
       "      <td>...</td>\n",
       "    </tr>\n",
       "    <tr>\n",
       "      <th>540</th>\n",
       "      <td>https://accounts.google.com/ServiceLogin?hl=en...</td>\n",
       "      <td>3</td>\n",
       "      <td>https://support.google.com/websearch/?p=displa...</td>\n",
       "    </tr>\n",
       "    <tr>\n",
       "      <th>543</th>\n",
       "      <td>https://support.google.com/websearch/community...</td>\n",
       "      <td>3</td>\n",
       "      <td>https://support.google.com/websearch/?p=displa...</td>\n",
       "    </tr>\n",
       "    <tr>\n",
       "      <th>546</th>\n",
       "      <td>https://support.google.com/websearch/?p=result...</td>\n",
       "      <td>3</td>\n",
       "      <td>https://support.google.com/websearch/?p=result...</td>\n",
       "    </tr>\n",
       "    <tr>\n",
       "      <th>550</th>\n",
       "      <td>https://accounts.google.com/ServiceLogin?hl=en...</td>\n",
       "      <td>3</td>\n",
       "      <td>https://support.google.com/websearch/?p=result...</td>\n",
       "    </tr>\n",
       "    <tr>\n",
       "      <th>553</th>\n",
       "      <td>https://support.google.com/websearch/community...</td>\n",
       "      <td>3</td>\n",
       "      <td>https://support.google.com/websearch/?p=result...</td>\n",
       "    </tr>\n",
       "  </tbody>\n",
       "</table>\n",
       "<p>244 rows × 3 columns</p>\n",
       "</div>"
      ],
      "text/plain": [
       "                                                  link  depth  \\\n",
       "0                              https://www.google.com/      0   \n",
       "1            https://www.google.com/imghp?hl=km&tab=wi      1   \n",
       "2         https://maps.google.com.kh/maps?hl=km&tab=wl      1   \n",
       "3                https://play.google.com/?hl=km&tab=w8      1   \n",
       "4                      https://news.google.com/?tab=wn      1   \n",
       "..                                                 ...    ...   \n",
       "540  https://accounts.google.com/ServiceLogin?hl=en...      3   \n",
       "543  https://support.google.com/websearch/community...      3   \n",
       "546  https://support.google.com/websearch/?p=result...      3   \n",
       "550  https://accounts.google.com/ServiceLogin?hl=en...      3   \n",
       "553  https://support.google.com/websearch/community...      3   \n",
       "\n",
       "                                                parent  \n",
       "0                              https://www.google.com/  \n",
       "1                              https://www.google.com/  \n",
       "2                              https://www.google.com/  \n",
       "3                              https://www.google.com/  \n",
       "4                              https://www.google.com/  \n",
       "..                                                 ...  \n",
       "540  https://support.google.com/websearch/?p=displa...  \n",
       "543  https://support.google.com/websearch/?p=displa...  \n",
       "546  https://support.google.com/websearch/?p=result...  \n",
       "550  https://support.google.com/websearch/?p=result...  \n",
       "553  https://support.google.com/websearch/?p=result...  \n",
       "\n",
       "[244 rows x 3 columns]"
      ]
     },
     "execution_count": 10,
     "metadata": {},
     "output_type": "execute_result"
    }
   ],
   "source": [
    "result"
   ]
  },
  {
   "cell_type": "code",
   "execution_count": 44,
   "id": "d5785be6",
   "metadata": {},
   "outputs": [],
   "source": [
    "# this is just the example scenarios\n",
    "# from the results you can see the links \"https://support.google.com/websearch\", \"https://play.google.com\"\n",
    "# it could be the all services google site"
   ]
  },
  {
   "cell_type": "code",
   "execution_count": 17,
   "id": "a41cc653",
   "metadata": {},
   "outputs": [
    {
     "ename": "InvalidSchema",
     "evalue": "No connection adapters were found for 'site:google.com'",
     "output_type": "error",
     "traceback": [
      "\u001b[1;31m---------------------------------------------------------------------------\u001b[0m",
      "\u001b[1;31mInvalidSchema\u001b[0m                             Traceback (most recent call last)",
      "Cell \u001b[1;32mIn[17], line 7\u001b[0m\n\u001b[0;32m      5\u001b[0m \u001b[38;5;66;03m# Fetch the HTML content of the webpage\u001b[39;00m\n\u001b[0;32m      6\u001b[0m url \u001b[38;5;241m=\u001b[39m \u001b[38;5;124m\"\u001b[39m\u001b[38;5;124msite:google.com\u001b[39m\u001b[38;5;124m\"\u001b[39m\n\u001b[1;32m----> 7\u001b[0m response \u001b[38;5;241m=\u001b[39m \u001b[43mrequests\u001b[49m\u001b[38;5;241;43m.\u001b[39;49m\u001b[43mget\u001b[49m\u001b[43m(\u001b[49m\u001b[43murl\u001b[49m\u001b[43m)\u001b[49m\n\u001b[0;32m      8\u001b[0m html_content \u001b[38;5;241m=\u001b[39m response\u001b[38;5;241m.\u001b[39mtext\n\u001b[0;32m     10\u001b[0m \u001b[38;5;66;03m# Create a BeautifulSoup object to parse the HTML\u001b[39;00m\n",
      "File \u001b[1;32m~\\AppData\\Roaming\\Python\\Python311\\site-packages\\requests\\api.py:73\u001b[0m, in \u001b[0;36mget\u001b[1;34m(url, params, **kwargs)\u001b[0m\n\u001b[0;32m     62\u001b[0m \u001b[38;5;28;01mdef\u001b[39;00m \u001b[38;5;21mget\u001b[39m(url, params\u001b[38;5;241m=\u001b[39m\u001b[38;5;28;01mNone\u001b[39;00m, \u001b[38;5;241m*\u001b[39m\u001b[38;5;241m*\u001b[39mkwargs):\n\u001b[0;32m     63\u001b[0m \u001b[38;5;250m    \u001b[39m\u001b[38;5;124mr\u001b[39m\u001b[38;5;124;03m\"\"\"Sends a GET request.\u001b[39;00m\n\u001b[0;32m     64\u001b[0m \n\u001b[0;32m     65\u001b[0m \u001b[38;5;124;03m    :param url: URL for the new :class:`Request` object.\u001b[39;00m\n\u001b[1;32m   (...)\u001b[0m\n\u001b[0;32m     70\u001b[0m \u001b[38;5;124;03m    :rtype: requests.Response\u001b[39;00m\n\u001b[0;32m     71\u001b[0m \u001b[38;5;124;03m    \"\"\"\u001b[39;00m\n\u001b[1;32m---> 73\u001b[0m     \u001b[38;5;28;01mreturn\u001b[39;00m \u001b[43mrequest\u001b[49m\u001b[43m(\u001b[49m\u001b[38;5;124;43m\"\u001b[39;49m\u001b[38;5;124;43mget\u001b[39;49m\u001b[38;5;124;43m\"\u001b[39;49m\u001b[43m,\u001b[49m\u001b[43m \u001b[49m\u001b[43murl\u001b[49m\u001b[43m,\u001b[49m\u001b[43m \u001b[49m\u001b[43mparams\u001b[49m\u001b[38;5;241;43m=\u001b[39;49m\u001b[43mparams\u001b[49m\u001b[43m,\u001b[49m\u001b[43m \u001b[49m\u001b[38;5;241;43m*\u001b[39;49m\u001b[38;5;241;43m*\u001b[39;49m\u001b[43mkwargs\u001b[49m\u001b[43m)\u001b[49m\n",
      "File \u001b[1;32m~\\AppData\\Roaming\\Python\\Python311\\site-packages\\requests\\api.py:59\u001b[0m, in \u001b[0;36mrequest\u001b[1;34m(method, url, **kwargs)\u001b[0m\n\u001b[0;32m     55\u001b[0m \u001b[38;5;66;03m# By using the 'with' statement we are sure the session is closed, thus we\u001b[39;00m\n\u001b[0;32m     56\u001b[0m \u001b[38;5;66;03m# avoid leaving sockets open which can trigger a ResourceWarning in some\u001b[39;00m\n\u001b[0;32m     57\u001b[0m \u001b[38;5;66;03m# cases, and look like a memory leak in others.\u001b[39;00m\n\u001b[0;32m     58\u001b[0m \u001b[38;5;28;01mwith\u001b[39;00m sessions\u001b[38;5;241m.\u001b[39mSession() \u001b[38;5;28;01mas\u001b[39;00m session:\n\u001b[1;32m---> 59\u001b[0m     \u001b[38;5;28;01mreturn\u001b[39;00m \u001b[43msession\u001b[49m\u001b[38;5;241;43m.\u001b[39;49m\u001b[43mrequest\u001b[49m\u001b[43m(\u001b[49m\u001b[43mmethod\u001b[49m\u001b[38;5;241;43m=\u001b[39;49m\u001b[43mmethod\u001b[49m\u001b[43m,\u001b[49m\u001b[43m \u001b[49m\u001b[43murl\u001b[49m\u001b[38;5;241;43m=\u001b[39;49m\u001b[43murl\u001b[49m\u001b[43m,\u001b[49m\u001b[43m \u001b[49m\u001b[38;5;241;43m*\u001b[39;49m\u001b[38;5;241;43m*\u001b[39;49m\u001b[43mkwargs\u001b[49m\u001b[43m)\u001b[49m\n",
      "File \u001b[1;32m~\\AppData\\Roaming\\Python\\Python311\\site-packages\\requests\\sessions.py:589\u001b[0m, in \u001b[0;36mSession.request\u001b[1;34m(self, method, url, params, data, headers, cookies, files, auth, timeout, allow_redirects, proxies, hooks, stream, verify, cert, json)\u001b[0m\n\u001b[0;32m    584\u001b[0m send_kwargs \u001b[38;5;241m=\u001b[39m {\n\u001b[0;32m    585\u001b[0m     \u001b[38;5;124m\"\u001b[39m\u001b[38;5;124mtimeout\u001b[39m\u001b[38;5;124m\"\u001b[39m: timeout,\n\u001b[0;32m    586\u001b[0m     \u001b[38;5;124m\"\u001b[39m\u001b[38;5;124mallow_redirects\u001b[39m\u001b[38;5;124m\"\u001b[39m: allow_redirects,\n\u001b[0;32m    587\u001b[0m }\n\u001b[0;32m    588\u001b[0m send_kwargs\u001b[38;5;241m.\u001b[39mupdate(settings)\n\u001b[1;32m--> 589\u001b[0m resp \u001b[38;5;241m=\u001b[39m \u001b[38;5;28;43mself\u001b[39;49m\u001b[38;5;241;43m.\u001b[39;49m\u001b[43msend\u001b[49m\u001b[43m(\u001b[49m\u001b[43mprep\u001b[49m\u001b[43m,\u001b[49m\u001b[43m \u001b[49m\u001b[38;5;241;43m*\u001b[39;49m\u001b[38;5;241;43m*\u001b[39;49m\u001b[43msend_kwargs\u001b[49m\u001b[43m)\u001b[49m\n\u001b[0;32m    591\u001b[0m \u001b[38;5;28;01mreturn\u001b[39;00m resp\n",
      "File \u001b[1;32m~\\AppData\\Roaming\\Python\\Python311\\site-packages\\requests\\sessions.py:697\u001b[0m, in \u001b[0;36mSession.send\u001b[1;34m(self, request, **kwargs)\u001b[0m\n\u001b[0;32m    694\u001b[0m hooks \u001b[38;5;241m=\u001b[39m request\u001b[38;5;241m.\u001b[39mhooks\n\u001b[0;32m    696\u001b[0m \u001b[38;5;66;03m# Get the appropriate adapter to use\u001b[39;00m\n\u001b[1;32m--> 697\u001b[0m adapter \u001b[38;5;241m=\u001b[39m \u001b[38;5;28;43mself\u001b[39;49m\u001b[38;5;241;43m.\u001b[39;49m\u001b[43mget_adapter\u001b[49m\u001b[43m(\u001b[49m\u001b[43murl\u001b[49m\u001b[38;5;241;43m=\u001b[39;49m\u001b[43mrequest\u001b[49m\u001b[38;5;241;43m.\u001b[39;49m\u001b[43murl\u001b[49m\u001b[43m)\u001b[49m\n\u001b[0;32m    699\u001b[0m \u001b[38;5;66;03m# Start time (approximately) of the request\u001b[39;00m\n\u001b[0;32m    700\u001b[0m start \u001b[38;5;241m=\u001b[39m preferred_clock()\n",
      "File \u001b[1;32m~\\AppData\\Roaming\\Python\\Python311\\site-packages\\requests\\sessions.py:794\u001b[0m, in \u001b[0;36mSession.get_adapter\u001b[1;34m(self, url)\u001b[0m\n\u001b[0;32m    791\u001b[0m         \u001b[38;5;28;01mreturn\u001b[39;00m adapter\n\u001b[0;32m    793\u001b[0m \u001b[38;5;66;03m# Nothing matches :-/\u001b[39;00m\n\u001b[1;32m--> 794\u001b[0m \u001b[38;5;28;01mraise\u001b[39;00m InvalidSchema(\u001b[38;5;124mf\u001b[39m\u001b[38;5;124m\"\u001b[39m\u001b[38;5;124mNo connection adapters were found for \u001b[39m\u001b[38;5;132;01m{\u001b[39;00murl\u001b[38;5;132;01m!r}\u001b[39;00m\u001b[38;5;124m\"\u001b[39m)\n",
      "\u001b[1;31mInvalidSchema\u001b[0m: No connection adapters were found for 'site:google.com'"
     ]
    }
   ],
   "source": [
    "#Task : write the regular expression to get all the services of google\n",
    "import requests\n",
    "from bs4 import BeautifulSoup\n",
    "\n",
    "# Fetch the HTML content of the webpage\n",
    "url = \"site:google.com\"\n",
    "response = requests.get(url)\n",
    "html_content = response.text\n",
    "\n",
    "# Create a BeautifulSoup object to parse the HTML\n",
    "soup = BeautifulSoup(html_content, \"html.parser\")\n",
    "\n",
    "# Find all <a> tags with href containing \"google.com\"\n",
    "service_links = soup.find_all(\"a\", href=re.compile(\"google.com\"))\n",
    "\n",
    "# Extract the service names from the links\n",
    "services = [link for link in service_links]\n",
    "\n",
    "# Print the list of Google services\n",
    "print(services)"
   ]
  },
  {
   "cell_type": "code",
   "execution_count": 46,
   "id": "400e50d1",
   "metadata": {},
   "outputs": [],
   "source": [
    "#Task : Visualize the services : - how many services that google have? "
   ]
  },
  {
   "cell_type": "code",
   "execution_count": null,
   "id": "703fe53e",
   "metadata": {},
   "outputs": [],
   "source": []
  },
  {
   "cell_type": "code",
   "execution_count": null,
   "id": "bbe5e8a1",
   "metadata": {},
   "outputs": [],
   "source": []
  },
  {
   "cell_type": "code",
   "execution_count": null,
   "id": "816d03fc",
   "metadata": {},
   "outputs": [],
   "source": []
  },
  {
   "cell_type": "code",
   "execution_count": null,
   "id": "d706ba59",
   "metadata": {},
   "outputs": [],
   "source": []
  },
  {
   "cell_type": "code",
   "execution_count": null,
   "id": "5fe78ac9",
   "metadata": {},
   "outputs": [],
   "source": []
  },
  {
   "cell_type": "code",
   "execution_count": null,
   "id": "59fd37a8",
   "metadata": {},
   "outputs": [],
   "source": []
  }
 ],
 "metadata": {
  "kernelspec": {
   "display_name": "Python 3 (ipykernel)",
   "language": "python",
   "name": "python3"
  },
  "language_info": {
   "codemirror_mode": {
    "name": "ipython",
    "version": 3
   },
   "file_extension": ".py",
   "mimetype": "text/x-python",
   "name": "python",
   "nbconvert_exporter": "python",
   "pygments_lexer": "ipython3",
   "version": "3.11.4"
  }
 },
 "nbformat": 4,
 "nbformat_minor": 5
}
